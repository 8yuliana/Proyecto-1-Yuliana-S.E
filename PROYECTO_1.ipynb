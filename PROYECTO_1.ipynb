{
  "nbformat": 4,
  "nbformat_minor": 0,
  "metadata": {
    "colab": {
      "provenance": []
    },
    "kernelspec": {
      "name": "python3",
      "display_name": "Python 3"
    },
    "language_info": {
      "name": "python"
    }
  },
  "cells": [
    {
      "cell_type": "code",
      "execution_count": 2,
      "metadata": {
        "id": "fXaFsqnAP5zy"
      },
      "outputs": [],
      "source": [
        "#YULIANA SÁNCHEZ ESCOBAR\n",
        "\n",
        "from google.colab import drive\n",
        "import numpy as np\n",
        "import pandas as pd"
      ]
    },
    {
      "cell_type": "code",
      "source": [
        "drive.mount(\"/content/gdrive\")"
      ],
      "metadata": {
        "colab": {
          "base_uri": "https://localhost:8080/"
        },
        "id": "4O7l03t7Hlp_",
        "outputId": "f11d4fb1-a3b9-4d21-e694-18614e173047"
      },
      "execution_count": 3,
      "outputs": [
        {
          "output_type": "stream",
          "name": "stdout",
          "text": [
            "Mounted at /content/gdrive\n"
          ]
        }
      ]
    },
    {
      "cell_type": "code",
      "source": [
        "df= pd.read_excel(r\"/content/gdrive/My Drive/Creacion_de_la_carrera_de_mat_ap.xlsx\")"
      ],
      "metadata": {
        "id": "ejrg3RaBH3Am"
      },
      "execution_count": 4,
      "outputs": []
    },
    {
      "cell_type": "code",
      "source": [
        "print(df)"
      ],
      "metadata": {
        "colab": {
          "base_uri": "https://localhost:8080/"
        },
        "id": "rMI-ZEihIIij",
        "outputId": "ac7ba8f9-ef50-4a3b-cf03-7ec6e1e206fd"
      },
      "execution_count": 5,
      "outputs": [
        {
          "output_type": "stream",
          "name": "stdout",
          "text": [
            "    Actividad                                        Descripcion Precedentes  \\\n",
            "0           1                                Decision preliminar         NaN   \n",
            "1           2              Determinacion y analisis de objetivos           1   \n",
            "2           3                    Sugerencia del plan de estudios           2   \n",
            "3           4                       Presentacion de la propuesta           3   \n",
            "4           5  Consulta con el sector academico del departame...           4   \n",
            "5           6        Consulta con el sector academico de la UNAM           4   \n",
            "6           7  Consulta con el sector academico de otras inst...           4   \n",
            "7           8  Consulta con el sector academico de otras inst...           4   \n",
            "8           9   Consulta con el sector administrativo de la UNAM           4   \n",
            "9          10  Analisis, discusion e incorporacion de sugeren...           5   \n",
            "10         11  Analisis, discusion e incorporacion de sugeren...           6   \n",
            "11         12  Analisis, discusion e incorporacion de sugeren...           7   \n",
            "12         13  Analisis, discusion e incorporacion de sugeren...           8   \n",
            "13         14  Analisis comparativo de planes similares en la...          11   \n",
            "14         15              Adicion de consideraciones nacionales      10, 14   \n",
            "15         16         Adicion de consideraciones internacionales  12, 13, 18   \n",
            "16         17           Elaboracion del documento administrativo       9, 16   \n",
            "17         18  Presentacion en el consejo tecnico de la Facul...          15   \n",
            "18         19                  Observaciones del consejo tecnico          18   \n",
            "19         20             Elaboracion del plan de estudios final      17, 19   \n",
            "20         21  Presentacion de propuesta definitiva a consejo...          20   \n",
            "\n",
            "    Duracion  \n",
            "0          3  \n",
            "1         15  \n",
            "2         10  \n",
            "3          2  \n",
            "4          8  \n",
            "5         10  \n",
            "6         10  \n",
            "7          8  \n",
            "8          5  \n",
            "9         20  \n",
            "10        10  \n",
            "11         8  \n",
            "12         6  \n",
            "13        10  \n",
            "14        20  \n",
            "15        15  \n",
            "16        10  \n",
            "17         3  \n",
            "18         8  \n",
            "19         8  \n",
            "20         8  \n"
          ]
        }
      ]
    },
    {
      "cell_type": "code",
      "source": [
        "df[\"Actividad\"]"
      ],
      "metadata": {
        "colab": {
          "base_uri": "https://localhost:8080/"
        },
        "id": "OTUX_1YlIlFo",
        "outputId": "74448b14-4261-4919-c1d6-4c43478ef9f5"
      },
      "execution_count": 6,
      "outputs": [
        {
          "output_type": "execute_result",
          "data": {
            "text/plain": [
              "0      1\n",
              "1      2\n",
              "2      3\n",
              "3      4\n",
              "4      5\n",
              "5      6\n",
              "6      7\n",
              "7      8\n",
              "8      9\n",
              "9     10\n",
              "10    11\n",
              "11    12\n",
              "12    13\n",
              "13    14\n",
              "14    15\n",
              "15    16\n",
              "16    17\n",
              "17    18\n",
              "18    19\n",
              "19    20\n",
              "20    21\n",
              "Name: Actividad, dtype: int64"
            ]
          },
          "metadata": {},
          "execution_count": 6
        }
      ]
    },
    {
      "cell_type": "code",
      "source": [
        "nodes= list(df[\"Actividad\"])\n",
        "print(nodes)"
      ],
      "metadata": {
        "colab": {
          "base_uri": "https://localhost:8080/"
        },
        "id": "D0rLZgDgIuhF",
        "outputId": "41614cd0-b29b-4fd1-e78e-9bf0ecf4ea89"
      },
      "execution_count": 28,
      "outputs": [
        {
          "output_type": "stream",
          "name": "stdout",
          "text": [
            "[1, 2, 3, 4, 5, 6, 7, 8, 9, 10, 11, 12, 13, 14, 15, 16, 17, 18, 19, 20, 21]\n"
          ]
        }
      ]
    },
    {
      "cell_type": "code",
      "source": [
        "arcs= []\n",
        "for i in range(len(df)):\n",
        "  #tenemos que quitar el \"nan\", excluyendolo\n",
        "  if not np.isnan(df.iloc[i,3]):\n",
        "    arcs.append((int(df.iloc[i,0]),df.iloc[i,2], df.iloc[i,3]))\n",
        "\n",
        "print(arcs)"
      ],
      "metadata": {
        "colab": {
          "base_uri": "https://localhost:8080/"
        },
        "id": "EB7M8PgSI1wD",
        "outputId": "0aeb112b-edad-4764-dade-2588d3132473"
      },
      "execution_count": 29,
      "outputs": [
        {
          "output_type": "stream",
          "name": "stdout",
          "text": [
            "[(1, nan, 3), (2, 1, 15), (3, 2, 10), (4, 3, 2), (5, 4, 8), (6, 4, 10), (7, 4, 10), (8, 4, 8), (9, 4, 5), (10, 5, 20), (11, 6, 10), (12, 7, 8), (13, 8, 6), (14, 11, 10), (15, '10, 14', 20), (16, '12, 13, 18', 15), (17, '9, 16', 10), (18, 15, 3), (19, 18, 8), (20, '17, 19', 8), (21, 20, 8)]\n"
          ]
        }
      ]
    },
    {
      "cell_type": "code",
      "source": [
        "dic = {\"A\":[], \"B\":[\"1\"], \"C\":[\"2\"], \"D\":[\"3\"], \"E\":[\"4\"], \"F\":[\"4\"], \"G\":[\"4\"], \"H\":[\"4\"], \"I\":[\"4\"], \"J\":[\"5\"], \"K\":[\"6\"], \"L\":[\"7\"], \"M\":[\"8\"], \"N\":[\"11\"], \"O\":[\"10\",\"14\"], \"P\":[\"12\",\"13\",\"18\"], \"Q\":[\"9\",\"16\"], \"R\":[\"15\"], \"S\":[\"18\"], \"T\":[\"17\",\"19\"], \"U\":[\"20\"]}"
      ],
      "metadata": {
        "id": "UzgtXsBR0-i1"
      },
      "execution_count": 21,
      "outputs": []
    },
    {
      "cell_type": "code",
      "source": [
        "sub = {}\n",
        "arcs = {}\n",
        "for a, ps in dic.items():\n",
        "  sub[a] = []\n",
        "  for p in ps:\n",
        "    if p not in sub:\n",
        "      sub[p] = []\n",
        "    sub[p].append(a)"
      ],
      "metadata": {
        "id": "GiXCNVIz3rFw"
      },
      "execution_count": 18,
      "outputs": []
    },
    {
      "cell_type": "code",
      "source": [
        "sub"
      ],
      "metadata": {
        "colab": {
          "base_uri": "https://localhost:8080/"
        },
        "id": "XApUB9U9P-WZ",
        "outputId": "4b87830f-bbec-425f-8c84-f595796d2d8c"
      },
      "execution_count": 19,
      "outputs": [
        {
          "output_type": "execute_result",
          "data": {
            "text/plain": [
              "{'A': [],\n",
              " 'B': [],\n",
              " '1': ['B'],\n",
              " 'C': [],\n",
              " '2': ['C'],\n",
              " 'D': [],\n",
              " '3': ['D'],\n",
              " 'E': [],\n",
              " '4': ['E', 'F', 'G', 'H', 'I'],\n",
              " 'F': [],\n",
              " 'G': [],\n",
              " 'H': [],\n",
              " 'I': [],\n",
              " 'J': [],\n",
              " '5': ['J'],\n",
              " 'K': [],\n",
              " '6': ['K'],\n",
              " 'L': [],\n",
              " '7': ['L'],\n",
              " 'M': [],\n",
              " '8': ['M'],\n",
              " 'N': [],\n",
              " '11': ['N'],\n",
              " 'O': [],\n",
              " '10': ['O'],\n",
              " '14': ['O'],\n",
              " 'P': [],\n",
              " '12': ['P'],\n",
              " '13': ['P'],\n",
              " '18': ['P', 'S'],\n",
              " 'Q': [],\n",
              " '9': ['Q'],\n",
              " '16': ['Q'],\n",
              " 'R': [],\n",
              " '15': ['R'],\n",
              " 'S': [],\n",
              " 'T': [],\n",
              " '17': ['T'],\n",
              " '19': ['T'],\n",
              " 'U': [],\n",
              " '20': ['U']}"
            ]
          },
          "metadata": {},
          "execution_count": 19
        }
      ]
    },
    {
      "cell_type": "code",
      "source": [
        "nodes = [1, 2, 3, 4, 5, 6, 7, 8, 9, 10, 11, 12, 13, 14, 15, 16, 17, 18, 19, 20, 21]\n",
        "done = [[], [\"1\"], [\"2\"], [\"3\"], [\"4\"], [\"4\"], [\"4\"], [\"4\"], [\"4\"], [\"5\"], [\"6\"], [\"7\"], [\"8\"], [\"11\"], [\"10\",\"14\"], [\"12\",\"13\",\"18\"], [\"9\",\"16\"], [\"15\"], [\"18\"], [\"17\",\"19\"], [\"20\"]]\n",
        "ind = 22\n",
        "arrows = []\n",
        "arcs = {}\n",
        "for k,v in dic.items():\n",
        "    print(k)\n",
        "    if v == []:\n",
        "        print(k)\n",
        "        nodes.append(ind)\n",
        "        arrows.append((0,ind))\n",
        "        done.append([k])\n",
        "        arcs[k]=(0, ind)\n",
        "        ind += 1\n",
        "    elif not v in done:\n",
        "        separated = [[elem] for elem in v]\n",
        "        for elem in separated:\n",
        "            arrows.append((done.index(elem),ind))\n",
        "        done.append(v)\n",
        "        nodes.append(ind)\n",
        "        ind += 1\n",
        "        if sub[k] == []:\n",
        "            arrows.append((done.index(v),1))\n",
        "            arcs[k] = (done.index(v),1)\n",
        "        else:\n",
        "            nodes.append(ind)\n",
        "            arrows.append((done.index(v),ind))\n",
        "            done.append([k])\n",
        "            arcs[k] = (done.index(v), ind)\n",
        "            ind += 1\n",
        "    else:\n",
        "        if sub[k] == []:\n",
        "            arrows.append((done.index(v),1))\n",
        "            arcs[k] = (done.index(v),1)\n",
        "        else:\n",
        "            nodes.append(ind)\n",
        "            arrows.append((done.index(v),ind))\n",
        "            done.append([k])\n",
        "            arcs[k] (done.index(v),ind)\n",
        "            ind += 1"
      ],
      "metadata": {
        "colab": {
          "base_uri": "https://localhost:8080/"
        },
        "id": "OxOgxDCV5Fx_",
        "outputId": "f8c89c7d-c1be-4aa3-cd25-a7a2cdd66aca"
      },
      "execution_count": 26,
      "outputs": [
        {
          "output_type": "stream",
          "name": "stdout",
          "text": [
            "A\n",
            "A\n",
            "B\n",
            "C\n",
            "D\n",
            "E\n",
            "F\n",
            "G\n",
            "H\n",
            "I\n",
            "J\n",
            "K\n",
            "L\n",
            "M\n",
            "N\n",
            "O\n",
            "P\n",
            "Q\n",
            "R\n",
            "S\n",
            "T\n",
            "U\n"
          ]
        }
      ]
    },
    {
      "cell_type": "code",
      "source": [
        "import matplotlib.pyplot as plt\n",
        "\n",
        "class Directed_graph:\n",
        "\n",
        "  def __init__(self):\n",
        "    self.nodes = []\n",
        "    self.arcs = []\n",
        "\n",
        "  def len_arcs(self):\n",
        "    return len(self.arcs)\n",
        "\n",
        "  def len_nodes(self):\n",
        "    return len(self.nodes)\n",
        "\n",
        "  def antecesores(self,node):\n",
        "    if node not in self.nodes:\n",
        "      print(node,\" No pertenece al conjunto de nodos\")\n",
        "      return []\n",
        "    else:\n",
        "      Ant = []\n",
        "      for x in self.arcs:\n",
        "        if node == x[-1]:\n",
        "          Ant.append(x[0])\n",
        "\n",
        "      return Ant\n",
        "\n",
        "  def sucesores(self,node):\n",
        "    if node not in self.nodes:\n",
        "      print(node,\" No pertenece al conjunto de nodos\")\n",
        "      return []\n",
        "    else:\n",
        "      Ant = []\n",
        "      for x in self.arcs:\n",
        "        if node == x[0]:\n",
        "          Ant.append(x[-1])\n",
        "      return Ant\n",
        "\n",
        "  def add_vertex(self, node):\n",
        "    self.nodes.append(node)\n",
        "    if node not in self.nodes:\n",
        "            self.nodes.append(node)\n",
        "            self.inicio[node] = 0\n",
        "\n",
        "  def add_arc(self, arc):\n",
        "    if type(arc) == tuple and len(arc) == 3:\n",
        "      if arc[0] in self.nodes and arc[1] in self.nodes:\n",
        "        self.arcs.append(arc)\n",
        "      else:\n",
        "        print(\"Las entradas no pertenecen a los nodos.\")\n",
        "    else:\n",
        "      print(\"El arco no es valido.\")\n",
        "\n",
        "  def Print_Directed_graph(self):\n",
        "        for arc in self.arcs:\n",
        "            print(f\"De {arc[1]} a {arc[0]} con duración {arc[2]}\")\n",
        "\n",
        "  def Fecha_mas_proxima(self, precedentes, actividad, duracion, FMP):\n",
        "     if precedentes:\n",
        "            FMP[actividad] = max(FMP[actividad], max(FMP[precedentes] for precedentes in precedentes) + duracion)\n",
        "     else:\n",
        "            FMP[actividad] = max(FMP[actividad],duracion)\n",
        "\n",
        "  def Fecha_mas_lejana(self, precedentes, actividad, duracion, FML):\n",
        "    if precedentes:\n",
        "            FML[actividad] = min(FML[actividad], min(FML[precedentes] for precedentes in precedentes) - duracion)\n",
        "    else:\n",
        "            FML[actividad] = min(FML[actividad],duracion)\n",
        "\n",
        "  def Directed_graph(self):\n",
        "    for node in self.nodes:\n",
        "      print(f\"Nodo {node}: Fecha mas proxima = {self.inicio[node]}, Fecha mas lejana = {self.fin[node]}\")\n",
        "\n",
        "graph = Directed_graph()\n",
        "for node in nodes:\n",
        "    graph.add_vertex(node)\n",
        "for arc in arcs:\n",
        "    graph.add_arc(arc)\n",
        "\n",
        "graph.Print_Directed_graph()"
      ],
      "metadata": {
        "colab": {
          "base_uri": "https://localhost:8080/"
        },
        "id": "5_Q75BIMKGOf",
        "outputId": "e94d7eb4-0e8e-4e20-e0a5-543cd7309356"
      },
      "execution_count": 58,
      "outputs": [
        {
          "output_type": "stream",
          "name": "stdout",
          "text": [
            "Las entradas no pertenecen a los nodos.\n",
            "Las entradas no pertenecen a los nodos.\n",
            "Las entradas no pertenecen a los nodos.\n",
            "Las entradas no pertenecen a los nodos.\n",
            "Las entradas no pertenecen a los nodos.\n",
            "De 1 a 2 con duración 15\n",
            "De 2 a 3 con duración 10\n",
            "De 3 a 4 con duración 2\n",
            "De 4 a 5 con duración 8\n",
            "De 4 a 6 con duración 10\n",
            "De 4 a 7 con duración 10\n",
            "De 4 a 8 con duración 8\n",
            "De 4 a 9 con duración 5\n",
            "De 5 a 10 con duración 20\n",
            "De 6 a 11 con duración 10\n",
            "De 7 a 12 con duración 8\n",
            "De 8 a 13 con duración 6\n",
            "De 11 a 14 con duración 10\n",
            "De 15 a 18 con duración 3\n",
            "De 18 a 19 con duración 8\n",
            "De 20 a 21 con duración 8\n"
          ]
        }
      ]
    },
    {
      "cell_type": "code",
      "source": [
        "def actividades_criticas(self, FMP, FML):\n",
        "        # Identificar actividades críticas\n",
        "        FMP, FML = self.calculate_agenda()\n",
        "        duracion_actividades_criticas = max(FMP.values())\n",
        "        actividades_criticas = []\n",
        "        for node, date in FMP.items():\n",
        "            if date == duracion_actividades_criticas and node != 'Start' and node != 'End':\n",
        "                actividades_criticas.append(node)\n",
        "        return actividades_criticas, duracion_actividades_criticas\n",
        "\n",
        "def Generar_reporte(self,actividades_criticas, duracion_actividades_criticas):\n",
        "  actividades_criticas, duracion_actividades_criticas = self.actividades_criticas()\n",
        "  with open(\"Reporte.txt\", \"w\") as f:\n",
        "    f.write(\"Tiempo mínimo necesario para la elaboración del proyecto: {}\\n\".format(duracion_actividades_criticas))\n",
        "    f.write(\"Actividades críticas:\\n\")\n",
        "    for actividad in actividades_criticas:\n",
        "      f.write(\"{}\\n\".format(actividad))"
      ],
      "metadata": {
        "id": "v-axK8MTFd61"
      },
      "execution_count": null,
      "outputs": []
    }
  ]
}